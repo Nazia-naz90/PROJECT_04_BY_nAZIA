{
  "nbformat": 4,
  "nbformat_minor": 0,
  "metadata": {
    "colab": {
      "provenance": [],
      "gpuType": "T4",
      "authorship_tag": "ABX9TyNfqXLGrr6udjFx0pELAaf9",
      "include_colab_link": true
    },
    "kernelspec": {
      "name": "python3",
      "display_name": "Python 3"
    },
    "language_info": {
      "name": "python"
    },
    "accelerator": "GPU"
  },
  "cells": [
    {
      "cell_type": "markdown",
      "metadata": {
        "id": "view-in-github",
        "colab_type": "text"
      },
      "source": [
        "<a href=\"https://colab.research.google.com/github/Nazia-naz90/PROJECT_04_BY_nAZIA/blob/main/03_powerful_passwords.ipynb\" target=\"_parent\"><img src=\"https://colab.research.google.com/assets/colab-badge.svg\" alt=\"Open In Colab\"/></a>"
      ]
    },
    {
      "cell_type": "markdown",
      "source": [
        "# Program: secure_login"
      ],
      "metadata": {
        "id": "MI-Jdm0csh8U"
      }
    },
    {
      "cell_type": "code",
      "source": [
        "import hashlib\n",
        "\n",
        "def hash_password(password:str) -> str:\n",
        "    \"\"\"\n",
        "    Hashes a given password using SHA-256.\n",
        "\n",
        "    :param password: The password to be hashed.\n",
        "    :return: The hashed password as a hexadecimal string.\n",
        "    \"\"\"\n",
        "    return hashlib.sha256(password.encode()).hexdigest()\n",
        "\n",
        "def login(email:str, stored_login:dict, password_to_check : str) -> bool:\n",
        "    \"\"\"\n",
        "    Checks if the provided password (after hashing) matches the stored hashed password for the given email.\n",
        "\n",
        "    :param email: The email we are checking the password for.\n",
        "    :param stored_logins: Dictionary containing stored hashed passwords mapped to emails.\n",
        "    :param password_to_check: The password input to verify.\n",
        "    :return: True if the password matches, False otherwise.\n",
        "    \"\"\"\n",
        "    # Check if email exists in stored logins\n",
        "    if email in stored_login:\n",
        "        return stored_login[email] == hash_password(password_to_check)\n",
        "\n",
        "    return False # Email not Found\n",
        "\n",
        "def main():\n",
        "    \"\"\"\n",
        "    Main function to test the login system with sample data.\n",
        "    \"\"\"\n",
        "    # Sample database of emails and their corresponding hashed passwords\n",
        "    stored_login = {\n",
        "        \"example@gmail.com\": hash_password(\"password\"),\n",
        "        \"user123@domain.com\": hash_password(\"securePass123\"),\n",
        "        \"admin@website.com\": hash_password(\"Admin@2024\"),\n",
        "    }\n",
        "\n",
        "    # Test Cases\n",
        "    print(login(\"example@gmail.com\", stored_login, \"password\"))  # ✅ Expected: True\n",
        "    print(login(\"example@gmail.com\",stored_login, \"wrongpassword\")) # ❌ Expected: False\n",
        "    print(login(\"user123@domain.com\",stored_login,\"securePass123\")) # ✅ Expected: True\n",
        "    print(login(\"admin@website.com\",stored_login, \"Admin@2024\")) # ✅ Expected: True\n",
        "    print(login(\"unknown@site.com\",stored_login , \"doesntmatter\")) # ❌ Expected: False\n",
        "\n",
        "if __name__ == \"__main__\":\n",
        "   main()\n"
      ],
      "metadata": {
        "colab": {
          "base_uri": "https://localhost:8080/"
        },
        "id": "K_sGS-6nsnr6",
        "outputId": "1a241b31-7bb0-4ed9-d830-8b3bb083b2b0"
      },
      "execution_count": 13,
      "outputs": [
        {
          "output_type": "stream",
          "name": "stdout",
          "text": [
            "True\n",
            "False\n",
            "True\n",
            "True\n",
            "False\n"
          ]
        }
      ]
    }
  ]
}