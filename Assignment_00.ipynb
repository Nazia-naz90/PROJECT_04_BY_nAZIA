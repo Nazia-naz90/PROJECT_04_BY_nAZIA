{
  "nbformat": 4,
  "nbformat_minor": 0,
  "metadata": {
    "colab": {
      "provenance": [],
      "authorship_tag": "ABX9TyM7TpJq5pHLzI4I3kU8xyGl",
      "include_colab_link": true
    },
    "kernelspec": {
      "name": "python3",
      "display_name": "Python 3"
    },
    "language_info": {
      "name": "python"
    }
  },
  "cells": [
    {
      "cell_type": "markdown",
      "metadata": {
        "id": "view-in-github",
        "colab_type": "text"
      },
      "source": [
        "<a href=\"https://colab.research.google.com/github/Nazia-naz90/PROJECT_04_BY_nAZIA/blob/main/Assignment_00.ipynb\" target=\"_parent\"><img src=\"https://colab.research.google.com/assets/colab-badge.svg\" alt=\"Open In Colab\"/></a>"
      ]
    },
    {
      "cell_type": "markdown",
      "source": [
        "## Problem Statement\n",
        "   Simple Calculator\n",
        "   "
      ],
      "metadata": {
        "id": "Led1mj3g_g2J"
      }
    },
    {
      "cell_type": "code",
      "source": [
        "num1 = float(input(\"Enter the first number :\"))\n",
        "operator = input(\"Enter operator(+,-,*,/):\")\n",
        "num2 = float(input(\"Enter your secon number :\"))\n",
        "\n",
        "if operator == \"+\":\n",
        "   print(\"Result:\",num1 + num2)\n",
        "\n",
        "elif operator == \"-\":\n",
        "    print(\"Result:\",num1 - num2)\n",
        "\n",
        "elif operator == \"*\":\n",
        "    print(\"Result:\",num1 * num2)\n",
        "\n",
        "elif operator == \"/\":\n",
        "     print(\"Result:\",num1 / num2 if num2 !=0 else \"Error\")\n",
        "\n",
        "else:\n",
        "  print(\"Invalid Operator.\")\n",
        "\n",
        "\n"
      ],
      "metadata": {
        "colab": {
          "base_uri": "https://localhost:8080/"
        },
        "id": "2nORm-9B__Li",
        "outputId": "0c89a569-2fe6-4623-b1f0-e1b7a17eaa76"
      },
      "execution_count": 9,
      "outputs": [
        {
          "output_type": "stream",
          "name": "stdout",
          "text": [
            "Enter the first number :2\n",
            "Enter operator(+,-,*,/):/\n",
            "Enter your secon number :4\n",
            "Result: 0.5\n"
          ]
        }
      ]
    }
  ]
}